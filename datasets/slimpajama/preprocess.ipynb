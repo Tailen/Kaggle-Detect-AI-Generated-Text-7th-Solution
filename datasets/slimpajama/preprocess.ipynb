{
 "cells": [
  {
   "cell_type": "code",
   "execution_count": 1,
   "metadata": {},
   "outputs": [],
   "source": [
    "import numpy as np\n",
    "import pandas as pd\n",
    "import matplotlib.pyplot as plt\n",
    "import zstandard as zstd"
   ]
  },
  {
   "cell_type": "code",
   "execution_count": 2,
   "metadata": {},
   "outputs": [
    {
     "name": "stdout",
     "output_type": "stream",
     "text": [
      "                                                text                  meta\n",
      "0  J.J. Abrams Returns To Write And Direct 'Star ...  RedPajamaCommonCrawl\n",
      "1  Hire event staffing in Barrie, Ontario and dis...           RedPajamaC4\n",
      "2  Pascal Pictures\\nMovie Review: Spider-Man: No ...  RedPajamaCommonCrawl\n",
      "3  Lej Assassination Tango hos Itunes for 39 kr.\\...           RedPajamaC4\n",
      "4  CBA legal challenge heads to B.C. Court of App...  RedPajamaCommonCrawl\n"
     ]
    }
   ],
   "source": [
    "# decompress zst files and concat into dataframe\n",
    "decomp = zstd.ZstdDecompressor()\n",
    "df_list = []\n",
    "for i in range(100):\n",
    "    with open(f\"compressed/example_train_{i}.jsonl.zst\", \"rb\") as f:\n",
    "        reader = zstd.ZstdDecompressor().stream_reader(f)\n",
    "        df_list.append(pd.read_json(reader, lines=True))\n",
    "df = pd.concat(df_list, ignore_index=True)\n",
    "\n",
    "# clean meta column\n",
    "df[\"meta\"] = df[\"meta\"].apply(lambda x: x[\"redpajama_set_name\"])\n",
    "print(df.head())"
   ]
  },
  {
   "cell_type": "code",
   "execution_count": 3,
   "metadata": {},
   "outputs": [
    {
     "name": "stdout",
     "output_type": "stream",
     "text": [
      "meta\n",
      "RedPajamaC4               548426\n",
      "RedPajamaCommonCrawl      315580\n",
      "RedPajamaStackExchange     49616\n",
      "RedPajamaWikipedia         45521\n",
      "RedPajamaGithub            35838\n",
      "RedPajamaArXiv              2657\n",
      "RedPajamaBook                362\n",
      "Name: count, dtype: int64\n"
     ]
    }
   ],
   "source": [
    "print(df[\"meta\"].value_counts())"
   ]
  },
  {
   "cell_type": "code",
   "execution_count": 4,
   "metadata": {},
   "outputs": [
    {
     "name": "stdout",
     "output_type": "stream",
     "text": [
      "package com.basho.riak.client.itest;\n",
      "\n",
      "import static org.junit.Assert.*;\n",
      "\n",
      "import org.apache.commons.httpclient.URIException;\n",
      "\n",
      "import com.basho.riak.client.request.RequestMeta;\n",
      "import com.basho.riak.client.response.HttpResponse;\n",
      "\n",
      "public class Utils {\n",
      "\n",
      "    public static RequestMeta WRITE_3_REPLICAS() { return RequestMeta.writeParams(3, 3); }\n",
      "\n",
      "    public static void assertSuccess(HttpResponse response) {\n",
      "        if (!response.isSuccess()) {\n",
      "            StringBuilder msg = new StringBuilder(\"Failed \");\n",
      "            msg.append(response.getHttpMethod().getName()).append(\" \");\n",
      "            try {\n",
      "                msg.append(response.getHttpMethod().getURI().toString());\n",
      "            } catch (URIException e) {\n",
      "                msg.append(response.getHttpMethod().getPath());\n",
      "            }\n",
      "            msg.append(\" -- \")\n",
      "                .append(response.getHttpMethod().getStatusLine()).append(\"; \")\n",
      "                .append(\"Response headers: \").append(response.getHttpHeaders().toString()).append(\"; \")\n",
      "                .append(\"Response body: \").append(response.getBody());\n",
      "            fail(msg.toString());\n",
      "        }\n",
      "    }\n",
      "\n",
      "}\n",
      "\n"
     ]
    }
   ],
   "source": [
    "print(df[df.meta == \"RedPajamaGithub\"].iloc[0].text)"
   ]
  },
  {
   "cell_type": "code",
   "execution_count": 15,
   "metadata": {},
   "outputs": [
    {
     "name": "stdout",
     "output_type": "stream",
     "text": [
      "meta\n",
      "RedPajamaC4               381055\n",
      "RedPajamaCommonCrawl      302464\n",
      "RedPajamaStackExchange     43004\n",
      "RedPajamaWikipedia         28852\n",
      "RedPajamaArXiv               672\n",
      "Name: count, dtype: int64\n"
     ]
    }
   ],
   "source": [
    "# drop Github and book rows\n",
    "df = df[df.meta != \"RedPajamaGithub\"]\n",
    "df = df[df.meta != \"RedPajamaBook\"]\n",
    "# drop rows with less than 700 characters\n",
    "df = df[df.text.apply(lambda x: len(x) > 700)]\n",
    "# drop rows with more than 30000 characters\n",
    "df = df[df.text.apply(lambda x: len(x) < 30000)]\n",
    "# drop rows with less than 100 words\n",
    "df = df[df.text.apply(lambda x: len(x.split()) > 100)]\n",
    "# shuffle\n",
    "df = df.sample(frac=1).reset_index(drop=True)\n",
    "\n",
    "print(df[\"meta\"].value_counts())"
   ]
  },
  {
   "cell_type": "code",
   "execution_count": 16,
   "metadata": {},
   "outputs": [
    {
     "data": {
      "image/png": "[encoded data removed]",
      "text/plain": [
       "<Figure size 640x480 with 1 Axes>"
      ]
     },
     "metadata": {},
     "output_type": "display_data"
    }
   ],
   "source": [
    "# plot distribution of text lengths\n",
    "plt.hist(df.text.apply(lambda x: len(x)), bins=100)\n",
    "plt.show()"
   ]
  },
  {
   "cell_type": "code",
   "execution_count": 17,
   "metadata": {},
   "outputs": [
    {
     "data": {
      "image/png": "[encoded data removed]",
      "text/plain": [
       "<Figure size 640x480 with 1 Axes>"
      ]
     },
     "metadata": {},
     "output_type": "display_data"
    }
   ],
   "source": [
    "# plot distribution of text word lengths\n",
    "plt.hist(df.text.apply(lambda x: len(x.split())), bins=100)\n",
    "plt.show()"
   ]
  },
  {
   "cell_type": "code",
   "execution_count": null,
   "metadata": {},
   "outputs": [],
   "source": [
    "# randomly truncate text to 100-1350 words\n"
   ]
  },
  {
   "cell_type": "code",
   "execution_count": 19,
   "metadata": {},
   "outputs": [
    {
     "name": "stdout",
     "output_type": "stream",
     "text": [
      "                                                text                  meta  \\\n",
      "0  I hope this blog finds you and yours healthy a...           RedPajamaC4   \n",
      "1  Receive average discounts up to 70% off + free...           RedPajamaC4   \n",
      "2  It was a full house for Huw Williams, and righ...           RedPajamaC4   \n",
      "3  Professor Evgeny Oscarovich Paton (,  1870–195...    RedPajamaWikipedia   \n",
      "4  Etymology gleanings for February 2016\\nBy jing...  RedPajamaCommonCrawl   \n",
      "\n",
      "                                                seed  \n",
      "0  us to be temporarily insane. Stop drinking the...  \n",
      "1   Time. You can use these Coupon codes to get upto  \n",
      "2  Cripps has worked hard and long in promoting f...  \n",
      "3  Paton (, 1870–1953) was a Russian and Soviet e...  \n",
      "4  Theodor Arnold (1752, and later editions), rep...  \n"
     ]
    }
   ],
   "source": [
    "# make column with randomly picked 10 continuous words from each text\n",
    "def get_seed(text):\n",
    "    words = text.split()\n",
    "    start = np.random.randint(0, len(words) - 10)\n",
    "    return \" \".join(words[start : start + 10])\n",
    "\n",
    "df[\"seed\"] = df.text.apply(get_seed)\n",
    "print(df.head())"
   ]
  },
  {
   "cell_type": "code",
   "execution_count": 21,
   "metadata": {},
   "outputs": [
    {
     "name": "stdout",
     "output_type": "stream",
     "text": [
      "us to be temporarily insane. Stop drinking the Kool-Aid. Be\n",
      "Time. You can use these Coupon codes to get upto\n",
      "Cripps has worked hard and long in promoting folk in\n",
      "Paton (, 1870–1953) was a Russian and Soviet engineer of\n",
      "Theodor Arnold (1752, and later editions), republished in two volumes\n",
      "not the heavy, sweet, sticky granules we know as 'brown\n",
      "personalization, mailing and delivery tracking. We are certified to handle\n",
      "go to someone else. All performances are at the Abbey\n",
      "(i.e. tools are included/promoted in other projects or campaigns). Read\n",
      "what was being taught at the time, he just didn't\n",
      "the Zumwalt-class of guided missile destroyers, would be named USS\n",
      "Sudan GOSS Press Release on the invasion of Abyei South\n",
      "with potential partners are laying the groundwork for a system\n",
      "combination with mystical activities. There have been various unexplained occurrences\n",
      "extreme natural phenomena that would have scared Caral locals away\n",
      "Law 'The Changing Face of Transitional Justice', Grotius Dialogue, Leiden\n",
      "expectancy between Black and white Americans have been highlighted by\n",
      "have ever been writer at this point) or I could\n",
      "Foot pedal operated with quick release. Fits most vehicle models\n",
      "specific brain proteins. CASPR2-reactive antibody cloned from a mother of\n",
      "Memory man great....last mile not so great! Memory Man had\n",
      "12/11), all TCAPS students, staff, and families were invited to\n",
      "vibration/rattle from the dash that is quite loud at freeway\n",
      "Gift Shop and General Store. The Sales and Fundraising Coordinator\n",
      "most common way people in the United States use CBD\n",
      "more menu options and expansion to a full service Taco\n",
      "les Petites Sœurs de l'Assomption el 21 de novembre de\n",
      "lymphoma now in remission, Toomey is joining five other teenaged\n",
      "horizon, but I am not sure quite how far away\n",
      "forever guarantee. With a padded and molded top grab handle,\n"
     ]
    }
   ],
   "source": [
    "for i in range(30):\n",
    "    print(df[\"seed\"].iloc[i])"
   ]
  },
  {
   "cell_type": "code",
   "execution_count": 22,
   "metadata": {},
   "outputs": [],
   "source": [
    "df.to_csv(\"slimpajama.csv\", index=False)"
   ]
  }
 ],
 "metadata": {
  "kernelspec": {
   "display_name": "kaggle_env",
   "language": "python",
   "name": "python3"
  },
  "language_info": {
   "codemirror_mode": {
    "name": "ipython",
    "version": 3
   },
   "file_extension": ".py",
   "mimetype": "text/x-python",
   "name": "python",
   "nbconvert_exporter": "python",
   "pygments_lexer": "ipython3",
   "version": "3.10.12"
  }
 },
 "nbformat": 4,
 "nbformat_minor": 2
}
